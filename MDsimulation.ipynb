{
 "cells": [
  {
   "cell_type": "markdown",
   "metadata": {},
   "source": [
    "#### Required imports for analysis part"
   ]
  },
  {
   "cell_type": "code",
   "execution_count": null,
   "metadata": {},
   "outputs": [],
   "source": [
    "import matplotlib as mpl\n",
    "import matplotlib.pyplot as plt\n",
    "import numpy as np\n"
   ]
  },
  {
   "cell_type": "code",
   "execution_count": null,
   "metadata": {},
   "outputs": [],
   "source": [
    "# pdb2gmx takes only protein file containing standard amino acid residues,\n",
    "    # so check the protein file, should contain only standard residues\n",
    "! grep -v HETATM protein.pdb > prot_clean.pdb"
   ]
  },
  {
   "cell_type": "markdown",
   "metadata": {},
   "source": [
    "### Generate Topology"
   ]
  },
  {
   "cell_type": "code",
   "execution_count": null,
   "metadata": {},
   "outputs": [],
   "source": [
    "# add 3point water (TIP or SPC) model unlesss 4point water is necessary\n",
    "! gmx pdb2gmx -f prot_clean.pdb -o prot_pros.gro -water spce -ff amber99sb"
   ]
  },
  {
   "cell_type": "code",
   "execution_count": null,
   "metadata": {},
   "outputs": [],
   "source": [
    "! tail topol.top"
   ]
  },
  {
   "cell_type": "markdown",
   "metadata": {},
   "source": [
    "### create box and add water in box"
   ]
  },
  {
   "cell_type": "code",
   "execution_count": null,
   "metadata": {},
   "outputs": [],
   "source": [
    "# c- center the molecule in box, d-distance from box edge to molecule, bt-box type\n",
    "! gmx editconf -f prot_pros.gro -o prot_box.gro -c -d 1.0 -bt dodecahedron"
   ]
  },
  {
   "cell_type": "code",
   "execution_count": null,
   "metadata": {},
   "outputs": [],
   "source": [
    "#cp-protein with box vectors, cs-solvent gro file, o-solvated system, p-topology file\n",
    "! gmx solvate -cp prot_box.gro -cs spc216.gro -o prot_solv.gro -p topol.top"
   ]
  },
  {
   "cell_type": "markdown",
   "metadata": {},
   "source": [
    "### Add ions"
   ]
  },
  {
   "cell_type": "code",
   "execution_count": null,
   "metadata": {
    "scrolled": true,
    "tags": []
   },
   "outputs": [],
   "source": [
    "! gmx grompp -f ions.mdp -c prot_solv.gro -p topol.top -o ions.tpr"
   ]
  },
  {
   "cell_type": "code",
   "execution_count": null,
   "metadata": {},
   "outputs": [],
   "source": [
    "! printf \"SOL\" | gmx genion -s ions.tpr -o prot_solv_ions.gro -p topol.top -pname NA -nname CL -neutral"
   ]
  },
  {
   "cell_type": "code",
   "execution_count": null,
   "metadata": {},
   "outputs": [],
   "source": [
    "! tail topol.top"
   ]
  },
  {
   "cell_type": "markdown",
   "metadata": {},
   "source": [
    "### Energy minimization and potential energy graph"
   ]
  },
  {
   "cell_type": "code",
   "execution_count": null,
   "metadata": {},
   "outputs": [],
   "source": [
    "# review nsteps\n",
    "! gmx grompp -f minim.mdp -c prot_solv_ions.gro -p topol.top -o em.tpr"
   ]
  },
  {
   "cell_type": "code",
   "execution_count": null,
   "metadata": {
    "tags": [
     "outputPrepend"
    ]
   },
   "outputs": [],
   "source": [
    "# ! gmx mdrun -v -deffnm em -nt 8 &\n",
    "# ampersand used to continue running even the shell is closed in linux shells in general\n",
    "! gmx mdrun -v -deffnm em -nt 8"
   ]
  },
  {
   "cell_type": "code",
   "execution_count": null,
   "metadata": {},
   "outputs": [],
   "source": [
    "! printf \"10\" | gmx energy -f em.edr -o potential.xvg"
   ]
  },
  {
   "cell_type": "code",
   "execution_count": null,
   "metadata": {},
   "outputs": [],
   "source": [
    "potential = np.genfromtxt([i for i in open('potential.xvg').read().splitlines() \n",
    "    if not i.startswith(('#','@'))])\n",
    "\n",
    "plt.plot(*potential.T)\n",
    "plt.xlabel('stop')\n",
    "plt.ylabel('potential')"
   ]
  },
  {
   "cell_type": "markdown",
   "metadata": {},
   "source": [
    "### Equlibration steps NVT"
   ]
  },
  {
   "cell_type": "code",
   "execution_count": null,
   "metadata": {},
   "outputs": [],
   "source": [
    "# Enter number of steps and multiply by *2\n",
    "# after multplying now 1step = 1fs\n",
    "# fs -> ps -> ns\n",
    "\n",
    "# review nsteps and output control in mdp file\n",
    "! gmx grompp -f nvt.mdp -c em.gro -r em.gro -p topol.top -o nvt.tpr"
   ]
  },
  {
   "cell_type": "code",
   "execution_count": null,
   "metadata": {},
   "outputs": [],
   "source": [
    "! gmx mdrun -v -deffnm nvt -nt 8"
   ]
  },
  {
   "cell_type": "code",
   "execution_count": null,
   "metadata": {},
   "outputs": [],
   "source": [
    "# ! gmx mdrun -v -deffnm nvt -cpi nvt.cpt -nt 6\n",
    "# if md run is interruprted then uncomment and excecute this cell to continue operation "
   ]
  },
  {
   "cell_type": "code",
   "execution_count": null,
   "metadata": {},
   "outputs": [],
   "source": [
    "! printf \"15\" | gmx energy -f nvt.edr -o temperature.xvg "
   ]
  },
  {
   "cell_type": "code",
   "execution_count": null,
   "metadata": {},
   "outputs": [],
   "source": [
    "temperature = np.genfromtxt([i for i in open('temperature.xvg').read().splitlines() \n",
    "    if not i.startswith(('#','@'))])  \n",
    "\n",
    "plt.plot(*temperature.T)\n",
    "plt.xlabel('stop')\n",
    "plt.ylabel('temperature')"
   ]
  },
  {
   "cell_type": "markdown",
   "metadata": {},
   "source": [
    "### Equlibration NPT"
   ]
  },
  {
   "cell_type": "code",
   "execution_count": null,
   "metadata": {},
   "outputs": [],
   "source": [
    "# review nsteps and output control in mdp file\n",
    "! gmx grompp -f npt.mdp -c nvt.gro -r nvt.gro -t nvt.cpt -p topol.top -o npt.tpr "
   ]
  },
  {
   "cell_type": "code",
   "execution_count": null,
   "metadata": {},
   "outputs": [],
   "source": [
    "! gmx mdrun -v -deffnm npt -nt 8"
   ]
  },
  {
   "cell_type": "code",
   "execution_count": null,
   "metadata": {},
   "outputs": [],
   "source": [
    "# ! gmx mdrun -v -deffnm npt -cpi npt.cpt -nt 6\n",
    "# if md run is interruprted then uncomment and excecute this cell to continue operation "
   ]
  },
  {
   "cell_type": "code",
   "execution_count": null,
   "metadata": {},
   "outputs": [],
   "source": [
    "! printf \"17\" | gmx energy -f npt.edr -o pressure.xvg "
   ]
  },
  {
   "cell_type": "code",
   "execution_count": null,
   "metadata": {},
   "outputs": [],
   "source": [
    "pressure = np.genfromtxt([i for i in open('pressure.xvg').read().splitlines() \n",
    "    if not i.startswith(('#','@'))])\n",
    "\n",
    "plt.plot(*pressure.T)\n",
    "plt.xlabel('stop')\n",
    "plt.ylabel('pressure')"
   ]
  },
  {
   "cell_type": "code",
   "execution_count": null,
   "metadata": {},
   "outputs": [],
   "source": [
    "! printf \"24\" | gmx energy -f npt.edr -o density.xvg "
   ]
  },
  {
   "cell_type": "code",
   "execution_count": null,
   "metadata": {},
   "outputs": [],
   "source": [
    "density = np.genfromtxt([i for i in open('density.xvg').read().splitlines() \n",
    "    if not i.startswith(('#','@'))]) \n",
    "\n",
    "plt.plot(*density.T)\n",
    "plt.xlabel('stop')\n",
    "plt.ylabel('density')"
   ]
  },
  {
   "cell_type": "markdown",
   "metadata": {},
   "source": [
    "### Equlibration molecular dynamics - production MD run"
   ]
  },
  {
   "cell_type": "code",
   "execution_count": null,
   "metadata": {},
   "outputs": [],
   "source": [
    "# review nsteps and output control in mdp file\n",
    "! gmx grompp -f md.mdp -c npt.gro -t npt.cpt -p topol.top -o md.tpr"
   ]
  },
  {
   "cell_type": "code",
   "execution_count": null,
   "metadata": {},
   "outputs": [],
   "source": [
    "! gmx mdrun -v -deffnm md -nt 8"
   ]
  },
  {
   "cell_type": "code",
   "execution_count": null,
   "metadata": {},
   "outputs": [],
   "source": [
    "# ! gmx mdrun -v -deffnm md -cpi md.cpt -nt 8"
   ]
  },
  {
   "cell_type": "markdown",
   "metadata": {},
   "source": [
    "### Trajectory correction"
   ]
  },
  {
   "cell_type": "code",
   "execution_count": null,
   "metadata": {},
   "outputs": [],
   "source": [
    "# correct production md run trajectory that only needed\n",
    "! printf \"Protein\\nSystem\\n\" | gmx trjconv -s md.tpr -f md.xtc -center -ur compact -pbc mol -o md_corrected.xtc"
   ]
  },
  {
   "cell_type": "markdown",
   "metadata": {},
   "source": [
    "#### Trajectory visualisation from previous file"
   ]
  },
  {
   "cell_type": "code",
   "execution_count": null,
   "metadata": {},
   "outputs": [],
   "source": [
    "# to visualise the trajectories in vmd\n",
    "# vmd md.gro md_correccted.xtc"
   ]
  },
  {
   "cell_type": "markdown",
   "metadata": {},
   "source": [
    "### Analysis"
   ]
  },
  {
   "cell_type": "code",
   "execution_count": null,
   "metadata": {},
   "outputs": [],
   "source": [
    "# 1. RMSD\n",
    "! printf \"Protein\\nProtein\\n\" | gmx rms -s md.tpr -f md_corrected.xtc -o rmsd.xvg"
   ]
  },
  {
   "cell_type": "code",
   "execution_count": null,
   "metadata": {},
   "outputs": [],
   "source": [
    "rmsd = np.genfromtxt([i for i in open('rmsd.xvg').read().splitlines() \n",
    "    if not i.startswith(('#','@'))]) \n",
    "\n",
    "plt.plot(*rmsd.T)\n",
    "plt.xlabel('steps')\n",
    "plt.ylabel('rmsd')"
   ]
  },
  {
   "cell_type": "code",
   "execution_count": null,
   "metadata": {},
   "outputs": [],
   "source": []
  }
 ],
 "metadata": {
  "kernelspec": {
   "display_name": "Python 3.8.8 ('base')",
   "language": "python",
   "name": "python3"
  },
  "language_info": {
   "codemirror_mode": {
    "name": "ipython",
    "version": 3
   },
   "file_extension": ".py",
   "mimetype": "text/x-python",
   "name": "python",
   "nbconvert_exporter": "python",
   "pygments_lexer": "ipython3",
   "version": "3.8.8"
  },
  "vscode": {
   "interpreter": {
    "hash": "27c8121e2e9a873957049f1ec24d13aeed5282d43519d2a4b5ef910eaaa46b78"
   }
  }
 },
 "nbformat": 4,
 "nbformat_minor": 2
}
